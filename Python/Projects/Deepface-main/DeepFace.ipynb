{
  "cells": [
    {
      "cell_type": "code",
      "execution_count": null,
      "metadata": {
        "colab": {
          "base_uri": "https://localhost:8080/"
        },
        "id": "cMsPRsdsZcPU",
        "outputId": "8a694d9e-f36d-4c76-e98f-ebf68e951243"
      },
      "outputs": [],
      "source": [
        "#Import DeepFace, CV2 and Matplotlib libraries\n",
        "from deepface import DeepFace\n",
        "import cv2\n",
        "import matplotlib.pyplot as plt"
      ]
    },
    {
      "cell_type": "code",
      "execution_count": null,
      "metadata": {
        "colab": {
          "base_uri": "https://localhost:8080/",
          "height": 451
        },
        "id": "AnUUV3uYamm9",
        "outputId": "dc9ffbbc-e635-42ae-e9a8-28c6bc003617"
      },
      "outputs": [],
      "source": [
        "check_img = cv2.imread('Woman Happy Face.jpg')\n",
        "plt.figure(figsize=(7,7))\n",
        "plt.imshow(check_img[:, :, ::-1])"
      ]
    },
    {
      "cell_type": "code",
      "execution_count": null,
      "metadata": {
        "colab": {
          "base_uri": "https://localhost:8080/"
        },
        "id": "KkwLCvHCbQef",
        "outputId": "4c1e07e8-8ab2-454f-bf65-fb0f20cd95e1"
      },
      "outputs": [],
      "source": [
        "#DeepFace analyse the uploaded image\n",
        "analyze_face = DeepFace.analyze(check_img)"
      ]
    },
    {
      "cell_type": "code",
      "execution_count": null,
      "metadata": {
        "colab": {
          "base_uri": "https://localhost:8080/"
        },
        "id": "SJ7MuWEfblTd",
        "outputId": "7c6997ae-b8d2-439d-efd9-0233f83c1575"
      },
      "outputs": [],
      "source": [
        "#Print all analysis of an image\n",
        "analyze_face"
      ]
    },
    {
      "cell_type": "code",
      "execution_count": null,
      "metadata": {
        "colab": {
          "base_uri": "https://localhost:8080/",
          "height": 36
        },
        "id": "xS_KFScRb1gv",
        "outputId": "688450e7-0451-44a9-8ff1-f63f59e48182"
      },
      "outputs": [],
      "source": [
        "#Let's print only emotion from the image\n",
        "analyze_face['dominant_emotion']"
      ]
    }
  ],
  "metadata": {
    "colab": {
      "provenance": []
    },
    "kernelspec": {
      "display_name": "Python 3",
      "language": "python",
      "name": "python3"
    },
    "language_info": {
      "codemirror_mode": {
        "name": "ipython",
        "version": 3
      },
      "file_extension": ".py",
      "mimetype": "text/x-python",
      "name": "python",
      "nbconvert_exporter": "python",
      "pygments_lexer": "ipython3",
      "version": "3.12.1"
    },
    "vscode": {
      "interpreter": {
        "hash": "00bcbdc93d1c918ee3331dd04014c76cc6e44acc093c2020ba3ddaa7c451c283"
      }
    }
  },
  "nbformat": 4,
  "nbformat_minor": 0
}
