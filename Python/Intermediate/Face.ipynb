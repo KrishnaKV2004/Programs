{
 "cells": [
  {
   "cell_type": "code",
   "execution_count": 1,
   "metadata": {},
   "outputs": [],
   "source": [
    "# Importing cv2 Library -->\n",
    "from email.mime import image\n",
    "import cv2\n",
    "\n",
    "# Loading Pre-Trained Face Detection Data -->\n",
    "trained_face_data = cv2.CascadeClassifier('haarcascade_frontalface_default.xml')\n",
    "\n",
    "# Image To Detect Face -->\n",
    "image = cv2.imread('Tony.jpg')\n",
    "\n",
    "# Convert Image To Grayscale -->\n",
    "gray_image = cv2.cvtColor(image, cv2.COLOR_BGR2RGB)\n",
    "\n",
    "# To Detect Face -->\n",
    "face_coordinates = trained_face_data.detectMultiScale(gray_image)\n",
    "\n",
    "# To Print Face Coordinates -->\n",
    "# print(face_coordinates)\n",
    "\n",
    "# To Assign Coordinates In Variables -->\n",
    "# (x, y, w, h) = face_coordinates[0]\n",
    "\n",
    "'''\n",
    "To Detect Multiple Faces Manually -->\n",
    "(x, y, w, h) = face_coordinates[1]\n",
    "cv2.rectangle(image, (x, y), (x+w, y+h), (0, 0, 0), 5)\n",
    "(x, y, w, h) = face_coordinates[2]\n",
    "cv2.rectangle(image, (x, y), (x+w, y+h), (0, 0, 0), 5)\n",
    "(x, y, w, h) = face_coordinates[....]\n",
    "cv2.rectangle(image, (x, y), (x+w, y+h), (0, 0, 0), 5)\n",
    "'''\n",
    "\n",
    "# To Draw Rectangle Around The Multiple Faces By For Loop-->\n",
    "for (x, y, w, h) in face_coordinates :\n",
    "    cv2.rectangle(image, (x, y), (x+w, y+h), (0, 0, 0), 5)\n",
    "\n",
    "# To Show Image -->\n",
    "cv2.imshow('Face Detector', image)\n",
    "\n",
    "# To Pause The Execution -->\n",
    "cv2.waitKey()"
   ]
  }
 ],
 "metadata": {
  "kernelspec": {
   "display_name": "Python 3",
   "language": "python",
   "name": "python3"
  },
  "language_info": {
   "codemirror_mode": {
    "name": "ipython",
    "version": 3
   },
   "file_extension": ".py",
   "mimetype": "text/x-python",
   "name": "python",
   "nbconvert_exporter": "python",
   "pygments_lexer": "ipython3",
   "version": "3.11.4"
  },
  "orig_nbformat": 4,
  "vscode": {
   "interpreter": {
    "hash": "00bcbdc93d1c918ee3331dd04014c76cc6e44acc093c2020ba3ddaa7c451c283"
   }
  }
 },
 "nbformat": 4,
 "nbformat_minor": 2
}
